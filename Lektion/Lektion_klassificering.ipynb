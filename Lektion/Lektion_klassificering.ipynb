{
 "cells": [
  {
   "cell_type": "code",
   "execution_count": null,
   "metadata": {},
   "outputs": [],
   "source": [
    "# Kod snutt till labb_1 om jag hellre vill plotta som en funktion\n",
    "\n",
    "def plot_category_vs_cardio(df, category, title, ax, rotate_xticks=False, palette=None):\n",
    "\n",
    "    percent = df.groupby(category)['cardio'].mean() * 100\n",
    "    sns.barplot(x=percent.index, y=percent.values, ax=ax, palette=palette)\n",
    "    ax.set_title(title)\n",
    "    ax.set_ylabel('Andel positiva (%)')\n",
    "    if rotate_xticks:\n",
    "        ax.set_xticks(range(len(percent.index)))  # Sätt antalet ticks\n",
    "        ax.set_xticklabels(percent.index, rotation=45)\n",
    "\n",
    "# Skapa en figur med subplots\n",
    "plt.figure(figsize=(15, 12))\n",
    "\n",
    "# Plot 1: Blodtryckskategorier\n",
    "plt.subplot(2, 2, 1)\n",
    "plot_category_vs_cardio(df, 'blood_pressure_category', 'Blodtryckskategorier vs Andel Positiva', \n",
    "                        plt.gca(), rotate_xticks=True, palette='viridis')\n",
    "\n",
    "# Plot 2: BMI-kategorier\n",
    "plt.subplot(2, 2, 2)\n",
    "plot_category_vs_cardio(df, 'BMI_category', 'BMI-kategorier vs Andel Positiva', \n",
    "                        plt.gca(), rotate_xticks=True)\n",
    "\n",
    "# Plot 3: Blodsocker\n",
    "plt.subplot(2, 2, 3)\n",
    "plot_category_vs_cardio(df_gluc, 'gluc_category', 'Blodsocker vs Andel Positiva', \n",
    "                        plt.gca())\n",
    "\n",
    "# Plot 4: Alkohol\n",
    "plt.subplot(2, 2, 4)\n",
    "plot_category_vs_cardio(df, 'alco', 'Alkohol vs Andel Positiva', \n",
    "                        plt.gca())\n",
    "plt.xticks(ticks=[0, 1], labels=['Inte alkoholkonsumtion', 'Alkoholkonsumtion'])\n",
    "\n",
    "\n",
    "plt.tight_layout()\n",
    "plt.show()"
   ]
  }
 ],
 "metadata": {
  "kernelspec": {
   "display_name": ".venv",
   "language": "python",
   "name": "python3"
  },
  "language_info": {
   "name": "python",
   "version": "3.12.6"
  }
 },
 "nbformat": 4,
 "nbformat_minor": 2
}
